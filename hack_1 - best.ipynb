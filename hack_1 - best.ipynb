{
 "cells": [
  {
   "cell_type": "markdown",
   "metadata": {},
   "source": [
    "Its a database of the salary and benefits paid to City employees since fiscal year 2013. This data is summarized and presented on the Employee Compensation report hosted at http://openbook.sfgov.org. The features of dataset are as given below - \n",
    "\n",
    "Year Type - Fiscal (July through June) or Calendar (January through December) \n",
    "\n",
    "Year - An accounting period of 12 months. The City and County of San Francisco operates on a fiscal year that begins on July 1 and ends on June 30 the following year. The Fiscal Year ending June 30, 2012 is represented as FY 2011-2012. \n",
    "\n",
    "Organization Group Code - Org Group is a group of Departments. For example, the Public Protection Org Group includes departments such as the Police, Fire, Adult Probation, District Attorney, and Sheriff. \n",
    "\n",
    "Organization Group - Org Group is a group of Departments. For example, the Public Protection Org Group includes departments such as the Police, Fire, Adult Probation, District Attorney, and Sheriff. \n",
    "\n",
    "Department Code- Departments are the primary organizational unit used by the City and County of San Francisco. Examples include Recreation and Parks, Public Works, and the Police Department. \n",
    "\n",
    "Department - Departments are the primary organizational unit used by the City and County of San Francisco. Examples include Recreation and Parks, Public Works, and the Police Department. \n",
    "\n",
    "Union Code-Unions represent employees in collective bargaining agreements. A job belongs to one union, although some jobs are unrepresented (usually temporarily). \n",
    "\n",
    "Union - Unions represent employees in collective bargaining agreements. A job belongs to one union, although some jobs are unrepresented (usually temporarily). \n",
    "\n",
    "Job Family Code - Job Family combines similar Jobs into meaningful groups.\n",
    "\n",
    " Job Family - Job Family combines similar Jobs into meaningful groups. \n",
    " \n",
    " Job Code - Jobs are defined by the Human Resources classification unit. Examples include gardeners, police officers, and accountants. Job - Jobs are defined by the Human Resources classification unit. Examples include gardeners, police officers, and accountants.\n",
    " \n",
    "  Employee Identifier - Each distinct number in the “Employee Identifier” column represents one employee. These identifying numbers are not meaningful but rather are randomly assigned for the purpose of building this dataset. The column does not appear on the Employee Compensation report hosted on openbook.sfgov.org, but that report does show one row for each employee. Employee ID has been included here to allow users to reconstruct the original report. Note that each employee’s identifier will change each time this dataset is updated, so comparisons by employee across multiple versions of the dataset are not possible. \n",
    "  \n",
    "  Overtime - Amounts paid to City employees working in excess of 40 hours per week. \n",
    "  \n",
    "  Other Salaries - Various irregular payments made to City employees including premium pay, incentive pay, or other one-time payments. \n",
    "  \n",
    "  Retirement - City contributions to employee retirement plans. \n",
    "  \n",
    "  Health/Dental - City-paid premiums to health and dental insurance plans covering City employees. To protect confidentiality as legally required, pro-rated citywide averages are presented in lieu of employee-specific health and dental benefits. \n",
    "  \n",
    "  Other Benefits - Mandatory benefits paid on behalf of employees, such as Social Security (FICA and Medicare) contributions, unemployment insurance premiums, and minor discretionary benefits not included in the above categories. \n",
    "  \n",
    "  Total Benefits - The sum of all benefits paid to City employees. Class- Class of Normal salaries paid to permanent or temporary City employees. Note: In the Class variable - 1 : Low range salary 2 : Mid range salary 3 : High range salary "
   ]
  },
  {
   "cell_type": "code",
   "execution_count": 56,
   "metadata": {},
   "outputs": [],
   "source": [
    "import pandas as pd\n",
    "import numpy as np\n",
    "import seaborn as sns\n",
    "import matplotlib.pyplot as plt\n",
    "import warnings\n",
    "warnings.filterwarnings('ignore')"
   ]
  },
  {
   "cell_type": "code",
   "execution_count": 57,
   "metadata": {},
   "outputs": [],
   "source": [
    "df = pd.read_csv(\"train.csv\")\n",
    "dff = pd.read_csv(\"test.csv\")\n",
    "# df.sample(5)"
   ]
  },
  {
   "cell_type": "code",
   "execution_count": 58,
   "metadata": {},
   "outputs": [],
   "source": [
    "df.drop(columns=['Year Type', 'Organization Group', 'Department', 'Union', 'Job Family', 'Job','ID','Year', 'Union Code', 'Employee Identifier', 'Department Code','Job Family Code','Job Code'], inplace=True)\n",
    "dff.drop(columns=['Year Type', 'Organization Group', 'Department', 'Union', 'Job Family', 'Job','ID','Year', 'Union Code', 'Employee Identifier', 'Department Code','Job Family Code','Job Code'], inplace=True)\n",
    "# df.sample(10).T"
   ]
  },
  {
   "cell_type": "code",
   "execution_count": 59,
   "metadata": {},
   "outputs": [
    {
     "data": {
      "text/html": [
       "<style type=\"text/css\">\n",
       "#T_4a109_row0_col0, #T_4a109_row1_col1, #T_4a109_row2_col2, #T_4a109_row3_col3, #T_4a109_row4_col4, #T_4a109_row5_col5, #T_4a109_row6_col6, #T_4a109_row7_col7 {\n",
       "  background-color: #b40426;\n",
       "  color: #f1f1f1;\n",
       "}\n",
       "#T_4a109_row0_col1, #T_4a109_row0_col2, #T_4a109_row0_col3, #T_4a109_row0_col4, #T_4a109_row0_col5, #T_4a109_row0_col6, #T_4a109_row0_col7, #T_4a109_row1_col0 {\n",
       "  background-color: #3b4cc0;\n",
       "  color: #f1f1f1;\n",
       "}\n",
       "#T_4a109_row1_col2 {\n",
       "  background-color: #d7dce3;\n",
       "  color: #000000;\n",
       "}\n",
       "#T_4a109_row1_col3 {\n",
       "  background-color: #cedaeb;\n",
       "  color: #000000;\n",
       "}\n",
       "#T_4a109_row1_col4 {\n",
       "  background-color: #ccd9ed;\n",
       "  color: #000000;\n",
       "}\n",
       "#T_4a109_row1_col5 {\n",
       "  background-color: #465ecf;\n",
       "  color: #f1f1f1;\n",
       "}\n",
       "#T_4a109_row1_col6 {\n",
       "  background-color: #c1d4f4;\n",
       "  color: #000000;\n",
       "}\n",
       "#T_4a109_row1_col7 {\n",
       "  background-color: #c6d6f1;\n",
       "  color: #000000;\n",
       "}\n",
       "#T_4a109_row2_col0 {\n",
       "  background-color: #4b64d5;\n",
       "  color: #f1f1f1;\n",
       "}\n",
       "#T_4a109_row2_col1 {\n",
       "  background-color: #dfdbd9;\n",
       "  color: #000000;\n",
       "}\n",
       "#T_4a109_row2_col3, #T_4a109_row3_col1 {\n",
       "  background-color: #d6dce4;\n",
       "  color: #000000;\n",
       "}\n",
       "#T_4a109_row2_col4 {\n",
       "  background-color: #b5cdfa;\n",
       "  color: #000000;\n",
       "}\n",
       "#T_4a109_row2_col5 {\n",
       "  background-color: #445acc;\n",
       "  color: #f1f1f1;\n",
       "}\n",
       "#T_4a109_row2_col6 {\n",
       "  background-color: #bfd3f6;\n",
       "  color: #000000;\n",
       "}\n",
       "#T_4a109_row2_col7, #T_4a109_row7_col2 {\n",
       "  background-color: #cdd9ec;\n",
       "  color: #000000;\n",
       "}\n",
       "#T_4a109_row3_col0 {\n",
       "  background-color: #485fd1;\n",
       "  color: #f1f1f1;\n",
       "}\n",
       "#T_4a109_row3_col2, #T_4a109_row4_col1 {\n",
       "  background-color: #d5dbe5;\n",
       "  color: #000000;\n",
       "}\n",
       "#T_4a109_row3_col4 {\n",
       "  background-color: #e9785d;\n",
       "  color: #f1f1f1;\n",
       "}\n",
       "#T_4a109_row3_col5 {\n",
       "  background-color: #f7b99e;\n",
       "  color: #000000;\n",
       "}\n",
       "#T_4a109_row3_col6 {\n",
       "  background-color: #c0282f;\n",
       "  color: #f1f1f1;\n",
       "}\n",
       "#T_4a109_row3_col7, #T_4a109_row7_col3 {\n",
       "  background-color: #d75445;\n",
       "  color: #f1f1f1;\n",
       "}\n",
       "#T_4a109_row4_col0 {\n",
       "  background-color: #4a63d3;\n",
       "  color: #f1f1f1;\n",
       "}\n",
       "#T_4a109_row4_col2 {\n",
       "  background-color: #b3cdfb;\n",
       "  color: #000000;\n",
       "}\n",
       "#T_4a109_row4_col3, #T_4a109_row5_col6 {\n",
       "  background-color: #e8765c;\n",
       "  color: #f1f1f1;\n",
       "}\n",
       "#T_4a109_row4_col5 {\n",
       "  background-color: #f1ccb8;\n",
       "  color: #000000;\n",
       "}\n",
       "#T_4a109_row4_col6, #T_4a109_row6_col4, #T_4a109_row6_col7, #T_4a109_row7_col6 {\n",
       "  background-color: #d44e41;\n",
       "  color: #f1f1f1;\n",
       "}\n",
       "#T_4a109_row4_col7 {\n",
       "  background-color: #e7745b;\n",
       "  color: #f1f1f1;\n",
       "}\n",
       "#T_4a109_row5_col0 {\n",
       "  background-color: #8caffe;\n",
       "  color: #000000;\n",
       "}\n",
       "#T_4a109_row5_col1 {\n",
       "  background-color: #97b8ff;\n",
       "  color: #000000;\n",
       "}\n",
       "#T_4a109_row5_col2 {\n",
       "  background-color: #85a8fc;\n",
       "  color: #f1f1f1;\n",
       "}\n",
       "#T_4a109_row5_col3 {\n",
       "  background-color: #f59f80;\n",
       "  color: #000000;\n",
       "}\n",
       "#T_4a109_row5_col4 {\n",
       "  background-color: #f7b396;\n",
       "  color: #000000;\n",
       "}\n",
       "#T_4a109_row5_col7 {\n",
       "  background-color: #f6a586;\n",
       "  color: #000000;\n",
       "}\n",
       "#T_4a109_row6_col0 {\n",
       "  background-color: #516ddb;\n",
       "  color: #f1f1f1;\n",
       "}\n",
       "#T_4a109_row6_col1 {\n",
       "  background-color: #cfdaea;\n",
       "  color: #000000;\n",
       "}\n",
       "#T_4a109_row6_col2 {\n",
       "  background-color: #c3d5f4;\n",
       "  color: #000000;\n",
       "}\n",
       "#T_4a109_row6_col3 {\n",
       "  background-color: #be242e;\n",
       "  color: #f1f1f1;\n",
       "}\n",
       "#T_4a109_row6_col5 {\n",
       "  background-color: #ef886b;\n",
       "  color: #f1f1f1;\n",
       "}\n",
       "#T_4a109_row7_col0 {\n",
       "  background-color: #4c66d6;\n",
       "  color: #f1f1f1;\n",
       "}\n",
       "#T_4a109_row7_col1 {\n",
       "  background-color: #d1dae9;\n",
       "  color: #000000;\n",
       "}\n",
       "#T_4a109_row7_col4 {\n",
       "  background-color: #e67259;\n",
       "  color: #f1f1f1;\n",
       "}\n",
       "#T_4a109_row7_col5 {\n",
       "  background-color: #f6bda2;\n",
       "  color: #000000;\n",
       "}\n",
       "</style>\n",
       "<table id=\"T_4a109_\">\n",
       "  <thead>\n",
       "    <tr>\n",
       "      <th class=\"blank level0\" >&nbsp;</th>\n",
       "      <th class=\"col_heading level0 col0\" >Organization Group Code</th>\n",
       "      <th class=\"col_heading level0 col1\" >Overtime</th>\n",
       "      <th class=\"col_heading level0 col2\" >Other Salaries</th>\n",
       "      <th class=\"col_heading level0 col3\" >Retirement</th>\n",
       "      <th class=\"col_heading level0 col4\" >Health/Dental</th>\n",
       "      <th class=\"col_heading level0 col5\" >Other Benefits</th>\n",
       "      <th class=\"col_heading level0 col6\" >Total Benefits</th>\n",
       "      <th class=\"col_heading level0 col7\" >Class</th>\n",
       "    </tr>\n",
       "  </thead>\n",
       "  <tbody>\n",
       "    <tr>\n",
       "      <th id=\"T_4a109_level0_row0\" class=\"row_heading level0 row0\" >Organization Group Code</th>\n",
       "      <td id=\"T_4a109_row0_col0\" class=\"data row0 col0\" >1.000000</td>\n",
       "      <td id=\"T_4a109_row0_col1\" class=\"data row0 col1\" >-0.301712</td>\n",
       "      <td id=\"T_4a109_row0_col2\" class=\"data row0 col2\" >-0.226052</td>\n",
       "      <td id=\"T_4a109_row0_col3\" class=\"data row0 col3\" >-0.243119</td>\n",
       "      <td id=\"T_4a109_row0_col4\" class=\"data row0 col4\" >-0.231393</td>\n",
       "      <td id=\"T_4a109_row0_col5\" class=\"data row0 col5\" >0.022912</td>\n",
       "      <td id=\"T_4a109_row0_col6\" class=\"data row0 col6\" >-0.202476</td>\n",
       "      <td id=\"T_4a109_row0_col7\" class=\"data row0 col7\" >-0.223910</td>\n",
       "    </tr>\n",
       "    <tr>\n",
       "      <th id=\"T_4a109_level0_row1\" class=\"row_heading level0 row1\" >Overtime</th>\n",
       "      <td id=\"T_4a109_row1_col0\" class=\"data row1 col0\" >-0.301712</td>\n",
       "      <td id=\"T_4a109_row1_col1\" class=\"data row1 col1\" >1.000000</td>\n",
       "      <td id=\"T_4a109_row1_col2\" class=\"data row1 col2\" >0.361632</td>\n",
       "      <td id=\"T_4a109_row1_col3\" class=\"data row1 col3\" >0.314432</td>\n",
       "      <td id=\"T_4a109_row1_col4\" class=\"data row1 col4\" >0.308647</td>\n",
       "      <td id=\"T_4a109_row1_col5\" class=\"data row1 col5\" >0.061956</td>\n",
       "      <td id=\"T_4a109_row1_col6\" class=\"data row1 col6\" >0.285985</td>\n",
       "      <td id=\"T_4a109_row1_col7\" class=\"data row1 col7\" >0.288897</td>\n",
       "    </tr>\n",
       "    <tr>\n",
       "      <th id=\"T_4a109_level0_row2\" class=\"row_heading level0 row2\" >Other Salaries</th>\n",
       "      <td id=\"T_4a109_row2_col0\" class=\"data row2 col0\" >-0.226052</td>\n",
       "      <td id=\"T_4a109_row2_col1\" class=\"data row2 col1\" >0.361632</td>\n",
       "      <td id=\"T_4a109_row2_col2\" class=\"data row2 col2\" >1.000000</td>\n",
       "      <td id=\"T_4a109_row2_col3\" class=\"data row2 col3\" >0.349144</td>\n",
       "      <td id=\"T_4a109_row2_col4\" class=\"data row2 col4\" >0.216293</td>\n",
       "      <td id=\"T_4a109_row2_col5\" class=\"data row2 col5\" >0.054032</td>\n",
       "      <td id=\"T_4a109_row2_col6\" class=\"data row2 col6\" >0.276517</td>\n",
       "      <td id=\"T_4a109_row2_col7\" class=\"data row2 col7\" >0.317438</td>\n",
       "    </tr>\n",
       "    <tr>\n",
       "      <th id=\"T_4a109_level0_row3\" class=\"row_heading level0 row3\" >Retirement</th>\n",
       "      <td id=\"T_4a109_row3_col0\" class=\"data row3 col0\" >-0.243119</td>\n",
       "      <td id=\"T_4a109_row3_col1\" class=\"data row3 col1\" >0.314432</td>\n",
       "      <td id=\"T_4a109_row3_col2\" class=\"data row3 col2\" >0.349144</td>\n",
       "      <td id=\"T_4a109_row3_col3\" class=\"data row3 col3\" >1.000000</td>\n",
       "      <td id=\"T_4a109_row3_col4\" class=\"data row3 col4\" >0.787526</td>\n",
       "      <td id=\"T_4a109_row3_col5\" class=\"data row3 col5\" >0.671137</td>\n",
       "      <td id=\"T_4a109_row3_col6\" class=\"data row3 col6\" >0.962205</td>\n",
       "      <td id=\"T_4a109_row3_col7\" class=\"data row3 col7\" >0.872818</td>\n",
       "    </tr>\n",
       "    <tr>\n",
       "      <th id=\"T_4a109_level0_row4\" class=\"row_heading level0 row4\" >Health/Dental</th>\n",
       "      <td id=\"T_4a109_row4_col0\" class=\"data row4 col0\" >-0.231393</td>\n",
       "      <td id=\"T_4a109_row4_col1\" class=\"data row4 col1\" >0.308647</td>\n",
       "      <td id=\"T_4a109_row4_col2\" class=\"data row4 col2\" >0.216293</td>\n",
       "      <td id=\"T_4a109_row4_col3\" class=\"data row4 col3\" >0.787526</td>\n",
       "      <td id=\"T_4a109_row4_col4\" class=\"data row4 col4\" >1.000000</td>\n",
       "      <td id=\"T_4a109_row4_col5\" class=\"data row4 col5\" >0.606259</td>\n",
       "      <td id=\"T_4a109_row4_col6\" class=\"data row4 col6\" >0.888821</td>\n",
       "      <td id=\"T_4a109_row4_col7\" class=\"data row4 col7\" >0.798186</td>\n",
       "    </tr>\n",
       "    <tr>\n",
       "      <th id=\"T_4a109_level0_row5\" class=\"row_heading level0 row5\" >Other Benefits</th>\n",
       "      <td id=\"T_4a109_row5_col0\" class=\"data row5 col0\" >0.022912</td>\n",
       "      <td id=\"T_4a109_row5_col1\" class=\"data row5 col1\" >0.061956</td>\n",
       "      <td id=\"T_4a109_row5_col2\" class=\"data row5 col2\" >0.054032</td>\n",
       "      <td id=\"T_4a109_row5_col3\" class=\"data row5 col3\" >0.671137</td>\n",
       "      <td id=\"T_4a109_row5_col4\" class=\"data row5 col4\" >0.606259</td>\n",
       "      <td id=\"T_4a109_row5_col5\" class=\"data row5 col5\" >1.000000</td>\n",
       "      <td id=\"T_4a109_row5_col6\" class=\"data row5 col6\" >0.796860</td>\n",
       "      <td id=\"T_4a109_row5_col7\" class=\"data row5 col7\" >0.657243</td>\n",
       "    </tr>\n",
       "    <tr>\n",
       "      <th id=\"T_4a109_level0_row6\" class=\"row_heading level0 row6\" >Total Benefits</th>\n",
       "      <td id=\"T_4a109_row6_col0\" class=\"data row6 col0\" >-0.202476</td>\n",
       "      <td id=\"T_4a109_row6_col1\" class=\"data row6 col1\" >0.285985</td>\n",
       "      <td id=\"T_4a109_row6_col2\" class=\"data row6 col2\" >0.276517</td>\n",
       "      <td id=\"T_4a109_row6_col3\" class=\"data row6 col3\" >0.962205</td>\n",
       "      <td id=\"T_4a109_row6_col4\" class=\"data row6 col4\" >0.888821</td>\n",
       "      <td id=\"T_4a109_row6_col5\" class=\"data row6 col5\" >0.796860</td>\n",
       "      <td id=\"T_4a109_row6_col6\" class=\"data row6 col6\" >1.000000</td>\n",
       "      <td id=\"T_4a109_row6_col7\" class=\"data row6 col7\" >0.889430</td>\n",
       "    </tr>\n",
       "    <tr>\n",
       "      <th id=\"T_4a109_level0_row7\" class=\"row_heading level0 row7\" >Class</th>\n",
       "      <td id=\"T_4a109_row7_col0\" class=\"data row7 col0\" >-0.223910</td>\n",
       "      <td id=\"T_4a109_row7_col1\" class=\"data row7 col1\" >0.288897</td>\n",
       "      <td id=\"T_4a109_row7_col2\" class=\"data row7 col2\" >0.317438</td>\n",
       "      <td id=\"T_4a109_row7_col3\" class=\"data row7 col3\" >0.872818</td>\n",
       "      <td id=\"T_4a109_row7_col4\" class=\"data row7 col4\" >0.798186</td>\n",
       "      <td id=\"T_4a109_row7_col5\" class=\"data row7 col5\" >0.657243</td>\n",
       "      <td id=\"T_4a109_row7_col6\" class=\"data row7 col6\" >0.889430</td>\n",
       "      <td id=\"T_4a109_row7_col7\" class=\"data row7 col7\" >1.000000</td>\n",
       "    </tr>\n",
       "  </tbody>\n",
       "</table>\n"
      ],
      "text/plain": [
       "<pandas.io.formats.style.Styler at 0x1ee14e01eb0>"
      ]
     },
     "execution_count": 59,
     "metadata": {},
     "output_type": "execute_result"
    }
   ],
   "source": [
    "corr = df.corr()\n",
    "corr.style.background_gradient(cmap='coolwarm')"
   ]
  },
  {
   "cell_type": "code",
   "execution_count": 60,
   "metadata": {},
   "outputs": [],
   "source": [
    "x_train = df.drop(columns=['Class'])\n",
    "y_train = df['Class']\n",
    "x_test = dff"
   ]
  },
  {
   "cell_type": "code",
   "execution_count": 61,
   "metadata": {},
   "outputs": [],
   "source": [
    "from sklearn import preprocessing\n",
    "def convert(data):\n",
    "    number = preprocessing.LabelEncoder()\n",
    "    df['Organization Group Code'] = number.fit_transform(df['Organization Group Code'])\n",
    "    df['Overtime'] = number.fit_transform(df['Overtime'])\n",
    "    df['Other Salaries'] = number.fit_transform(df['Other Salaries'])\n",
    "    df['Retirement'] = number.fit_transform(df['Retirement'])\n",
    "    df['Health/Dental'] = number.fit_transform(df['Health/Dental'])\n",
    "    df['Other Benefits'] = number.fit_transform(df['Other Benefits'])\n",
    "    df['Total Benefits'] = number.fit_transform(df['Total Benefits'])\n",
    "    data=data.fillna(0)\n",
    "    return data\n",
    "\n",
    "x_train=convert(x_train)\n",
    "x_test=convert(x_test)"
   ]
  },
  {
   "cell_type": "code",
   "execution_count": 64,
   "metadata": {},
   "outputs": [
    {
     "data": {
      "text/plain": [
       "numpy.ndarray"
      ]
     },
     "execution_count": 64,
     "metadata": {},
     "output_type": "execute_result"
    }
   ],
   "source": [
    "# x_train= np.asarray(x_train)\n",
    "\n",
    "x_train= np.asarray(x_train).astype(np.float32)\n",
    "from tensorflow.keras.utils import to_categorical \n",
    "\n",
    "y_train1 = to_categorical(y_train)\n",
    "y_train1=np.asarray(y_train1)\n",
    "type(x_train)"
   ]
  },
  {
   "cell_type": "code",
   "execution_count": 69,
   "metadata": {},
   "outputs": [
    {
     "data": {
      "text/plain": [
       "array([[0., 1., 0.],\n",
       "       [0., 1., 0.],\n",
       "       [0., 1., 0.],\n",
       "       ...,\n",
       "       [0., 0., 1.],\n",
       "       [1., 0., 0.],\n",
       "       [0., 0., 1.]], dtype=float32)"
      ]
     },
     "execution_count": 69,
     "metadata": {},
     "output_type": "execute_result"
    }
   ],
   "source": [
    "y_train1"
   ]
  },
  {
   "cell_type": "code",
   "execution_count": 68,
   "metadata": {},
   "outputs": [],
   "source": [
    "y_train1 = y_train1[:,1:4]"
   ]
  },
  {
   "cell_type": "code",
   "execution_count": null,
   "metadata": {},
   "outputs": [],
   "source": []
  },
  {
   "cell_type": "code",
   "execution_count": 93,
   "metadata": {},
   "outputs": [
    {
     "name": "stdout",
     "output_type": "stream",
     "text": [
      "Epoch 1/5\n",
      "4659/4659 [==============================] - 11225s 2s/step - loss: 10.5468 - accuracy: 0.3549\n",
      "Epoch 2/5\n",
      "1406/4659 [========>.....................] - ETA: 9:20 - loss: 1.0970 - accuracy: 0.3444"
     ]
    }
   ],
   "source": [
    "import tensorflow as tf\n",
    "from tensorflow.keras.layers import  Dense, Dropout\n",
    "from tensorflow.keras.models import Sequential\n",
    "tf.keras.backend.clear_session()\n",
    "model = Sequential()\n",
    "# Apply Dropout with 0.2 probability\n",
    "# Add Fully Connected Layer with 128 units and activation function as 'relu'\n",
    "model.add(Dense(15000, activation='relu'))\n",
    "model.add(Dense(1240, activation='relu'))\n",
    "model.add(Dense(150, activation='relu'))\n",
    "#Add Fully Connected Layer with 10 units and activation function as 'softmax'\n",
    "model.add(Dropout(rate=0.25))\n",
    "model.add(Dense(3, activation='softmax'))\n",
    "# Compile the model\n",
    "model.compile(loss='categorical_crossentropy', metrics=['accuracy'], optimizer='adam')\n",
    "# Use earlystopping\n",
    "# from tensorflow.keras.callbacks import ModelCheckpoint, EarlyStopping\n",
    "# callback = tensorflow.keras.callbacks.EarlyStopping(monitor='val_accuracy', patience=2, min_delta=0.01)\n",
    "# Fit the model\n",
    "model.fit(x=x_train, y=y_train1, batch_size=32, epochs=5) #,  callbacks=[callback])\n",
    "# let`s train for few more epochs to improve the accuracy\n",
    "# model.evaluate(X_test, y_test)\n",
    "# CNN_train_acc = model.evaluate(x_train, y_train)[1]\n",
    "# CNN_test_acc = model.evaluate(x_test, y_test)[1]\n",
    "# CNN_loss = model1.evaluate(x_test, y_test)[0]\n",
    "# final_df.loc[len(final_df.index)] = ['CNN' , CNN_train_acc, CNN_test_acc, CNN_loss]\n",
    "# final_df"
   ]
  },
  {
   "cell_type": "code",
   "execution_count": 85,
   "metadata": {},
   "outputs": [
    {
     "name": "stdout",
     "output_type": "stream",
     "text": [
      "4659/4659 [==============================] - 9s 2ms/step - loss: 1.0951 - accuracy: 0.3438\n"
     ]
    }
   ],
   "source": [
    "# model.fit(x_train, y_train, batch_size = 32, epochs= 20, initial_epoch=5)\n",
    "model.evaluate(x_train, y_train1)\n",
    "Y_PRED = model.predict(x_test)\n",
    "y_pred = np.argmax(Y_PRED, axis =1)+1\n"
   ]
  },
  {
   "cell_type": "code",
   "execution_count": 72,
   "metadata": {},
   "outputs": [
    {
     "data": {
      "text/plain": [
       "numpy.ndarray"
      ]
     },
     "execution_count": 72,
     "metadata": {},
     "output_type": "execute_result"
    }
   ],
   "source": [
    "type(Y_PRED)"
   ]
  },
  {
   "cell_type": "code",
   "execution_count": 88,
   "metadata": {},
   "outputs": [
    {
     "data": {
      "text/plain": [
       "3"
      ]
     },
     "execution_count": 88,
     "metadata": {},
     "output_type": "execute_result"
    }
   ],
   "source": [
    "y_pred[50]"
   ]
  },
  {
   "cell_type": "code",
   "execution_count": null,
   "metadata": {},
   "outputs": [],
   "source": []
  },
  {
   "cell_type": "code",
   "execution_count": 83,
   "metadata": {},
   "outputs": [
    {
     "ename": "TypeError",
     "evalue": "'numpy.int64' object does not support item assignment",
     "output_type": "error",
     "traceback": [
      "\u001b[1;31m---------------------------------------------------------------------------\u001b[0m",
      "\u001b[1;31mTypeError\u001b[0m                                 Traceback (most recent call last)",
      "\u001b[1;32m~\\AppData\\Local\\Temp/ipykernel_20132/3277843108.py\u001b[0m in \u001b[0;36m<module>\u001b[1;34m\u001b[0m\n\u001b[1;32m----> 1\u001b[1;33m \u001b[0my_pred\u001b[0m\u001b[1;33m[\u001b[0m\u001b[1;36m1\u001b[0m\u001b[1;33m]\u001b[0m \u001b[1;33m=\u001b[0m \u001b[0mY_PRED\u001b[0m\u001b[1;33m[\u001b[0m\u001b[1;36m1\u001b[0m\u001b[1;33m]\u001b[0m\u001b[1;33m.\u001b[0m\u001b[0margmax\u001b[0m\u001b[1;33m(\u001b[0m\u001b[1;33m)\u001b[0m\u001b[1;33m\u001b[0m\u001b[1;33m\u001b[0m\u001b[0m\n\u001b[0m",
      "\u001b[1;31mTypeError\u001b[0m: 'numpy.int64' object does not support item assignment"
     ]
    }
   ],
   "source": [
    "y_pred[1] = Y_PRED[1].argmax()"
   ]
  },
  {
   "cell_type": "code",
   "execution_count": 84,
   "metadata": {},
   "outputs": [
    {
     "ename": "IndexError",
     "evalue": "invalid index to scalar variable.",
     "output_type": "error",
     "traceback": [
      "\u001b[1;31m---------------------------------------------------------------------------\u001b[0m",
      "\u001b[1;31mIndexError\u001b[0m                                Traceback (most recent call last)",
      "\u001b[1;32m~\\AppData\\Local\\Temp/ipykernel_20132/14472685.py\u001b[0m in \u001b[0;36m<module>\u001b[1;34m\u001b[0m\n\u001b[1;32m----> 1\u001b[1;33m \u001b[0my_pred\u001b[0m\u001b[1;33m[\u001b[0m\u001b[1;36m1\u001b[0m\u001b[1;33m]\u001b[0m\u001b[1;33m\u001b[0m\u001b[1;33m\u001b[0m\u001b[0m\n\u001b[0m",
      "\u001b[1;31mIndexError\u001b[0m: invalid index to scalar variable."
     ]
    }
   ],
   "source": [
    "y_pred[1]"
   ]
  },
  {
   "cell_type": "code",
   "execution_count": 74,
   "metadata": {},
   "outputs": [],
   "source": [
    "y_pred = y_pred+1"
   ]
  },
  {
   "cell_type": "code",
   "execution_count": 77,
   "metadata": {},
   "outputs": [
    {
     "data": {
      "text/plain": [
       "2941"
      ]
     },
     "execution_count": 77,
     "metadata": {},
     "output_type": "execute_result"
    }
   ],
   "source": [
    "y_pred"
   ]
  },
  {
   "cell_type": "code",
   "execution_count": 89,
   "metadata": {},
   "outputs": [],
   "source": [
    "y_pred1 = pd.DataFrame(y_pred)"
   ]
  },
  {
   "cell_type": "code",
   "execution_count": 92,
   "metadata": {},
   "outputs": [],
   "source": [
    "y_pred1.to_csv('sol2.csv')"
   ]
  },
  {
   "cell_type": "code",
   "execution_count": null,
   "metadata": {},
   "outputs": [],
   "source": []
  },
  {
   "cell_type": "code",
   "execution_count": null,
   "metadata": {},
   "outputs": [],
   "source": [
    "import pyttsx3\n",
    "text = pyttsx3.init()\n",
    "s = 'The code is Compiled'\n",
    "text.say(s)\n",
    "text.runAndWait()"
   ]
  },
  {
   "cell_type": "code",
   "execution_count": null,
   "metadata": {},
   "outputs": [],
   "source": [
    "\n",
    "test = pd.read_csv(\"test.csv\")"
   ]
  },
  {
   "cell_type": "code",
   "execution_count": null,
   "metadata": {},
   "outputs": [],
   "source": [
    "submit = test['ID']"
   ]
  },
  {
   "cell_type": "code",
   "execution_count": null,
   "metadata": {},
   "outputs": [],
   "source": [
    "Y_PRED = Y_PRED.argmax()"
   ]
  },
  {
   "cell_type": "code",
   "execution_count": null,
   "metadata": {},
   "outputs": [],
   "source": [
    "type(Y_PRED)"
   ]
  },
  {
   "cell_type": "code",
   "execution_count": null,
   "metadata": {},
   "outputs": [],
   "source": [
    "Y_PRED"
   ]
  },
  {
   "cell_type": "code",
   "execution_count": null,
   "metadata": {},
   "outputs": [],
   "source": [
    "import numpy as np\n",
    "import pandas as pd\n",
    "\n",
    "my_array = np.array([[11,22,33],[44,55,66]])\n",
    "print(type(my_array))\n",
    "df = pd.DataFrame(my_array, columns = ['Column_A','Column_B','Column_C'])\n",
    "\n",
    "print(df)\n",
    "print(type(df))"
   ]
  },
  {
   "cell_type": "code",
   "execution_count": null,
   "metadata": {},
   "outputs": [],
   "source": [
    "y_pred =pd.DataFrame(Y_PRED)\n",
    "y_pred.sample(6)"
   ]
  },
  {
   "cell_type": "code",
   "execution_count": null,
   "metadata": {},
   "outputs": [],
   "source": [
    "sub = df.append([submit, pd.DataFrame(Y_PRED)])\n",
    "sub.sample(6)"
   ]
  },
  {
   "cell_type": "code",
   "execution_count": null,
   "metadata": {},
   "outputs": [],
   "source": [
    "submit.to_csv('sub1.csv')"
   ]
  },
  {
   "cell_type": "code",
   "execution_count": null,
   "metadata": {},
   "outputs": [],
   "source": [
    "y_pred = pd.DataFrame(Y_PRED)"
   ]
  },
  {
   "cell_type": "code",
   "execution_count": null,
   "metadata": {},
   "outputs": [],
   "source": [
    "y_pred.head()"
   ]
  },
  {
   "cell_type": "code",
   "execution_count": null,
   "metadata": {},
   "outputs": [],
   "source": []
  },
  {
   "cell_type": "code",
   "execution_count": null,
   "metadata": {},
   "outputs": [],
   "source": []
  },
  {
   "cell_type": "code",
   "execution_count": null,
   "metadata": {},
   "outputs": [],
   "source": []
  },
  {
   "cell_type": "code",
   "execution_count": null,
   "metadata": {},
   "outputs": [],
   "source": []
  },
  {
   "cell_type": "code",
   "execution_count": null,
   "metadata": {},
   "outputs": [],
   "source": []
  },
  {
   "cell_type": "code",
   "execution_count": null,
   "metadata": {},
   "outputs": [],
   "source": []
  },
  {
   "cell_type": "code",
   "execution_count": null,
   "metadata": {},
   "outputs": [],
   "source": []
  },
  {
   "cell_type": "code",
   "execution_count": null,
   "metadata": {},
   "outputs": [],
   "source": []
  },
  {
   "cell_type": "code",
   "execution_count": null,
   "metadata": {},
   "outputs": [],
   "source": [
    "ddf = pd.read_csv('test.csv')"
   ]
  },
  {
   "cell_type": "code",
   "execution_count": null,
   "metadata": {},
   "outputs": [],
   "source": [
    "ddf.sample(10)"
   ]
  },
  {
   "cell_type": "code",
   "execution_count": null,
   "metadata": {},
   "outputs": [],
   "source": []
  }
 ],
 "metadata": {
  "interpreter": {
   "hash": "808562ea9aaf44e61854e01068ff7f285a21e14ec2f002c9fc988596cabd839b"
  },
  "kernelspec": {
   "display_name": "Python 3.9.7 ('base')",
   "language": "python",
   "name": "python3"
  },
  "language_info": {
   "codemirror_mode": {
    "name": "ipython",
    "version": 3
   },
   "file_extension": ".py",
   "mimetype": "text/x-python",
   "name": "python",
   "nbconvert_exporter": "python",
   "pygments_lexer": "ipython3",
   "version": "3.9.7"
  },
  "orig_nbformat": 4
 },
 "nbformat": 4,
 "nbformat_minor": 2
}
